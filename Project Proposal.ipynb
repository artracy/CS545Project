{
 "cells": [
  {
   "cell_type": "markdown",
   "metadata": {},
   "source": [
    "$\\newcommand{\\xv}{\\mathbf{x}}\n",
    "\\newcommand{\\Xv}{\\mathbf{X}}\n",
    "\\newcommand{\\yv}{\\mathbf{y}}\n",
    "\\newcommand{\\zv}{\\mathbf{z}}\n",
    "\\newcommand{\\av}{\\mathbf{a}}\n",
    "\\newcommand{\\Wv}{\\mathbf{W}}\n",
    "\\newcommand{\\wv}{\\mathbf{w}}\n",
    "\\newcommand{\\tv}{\\mathbf{t}}\n",
    "\\newcommand{\\Tv}{\\mathbf{T}}\n",
    "\\newcommand{\\muv}{\\boldsymbol{\\mu}}\n",
    "\\newcommand{\\sigmav}{\\boldsymbol{\\sigma}}\n",
    "\\newcommand{\\phiv}{\\boldsymbol{\\phi}}\n",
    "\\newcommand{\\Phiv}{\\boldsymbol{\\Phi}}\n",
    "\\newcommand{\\Sigmav}{\\boldsymbol{\\Sigma}}\n",
    "\\newcommand{\\Lambdav}{\\boldsymbol{\\Lambda}}\n",
    "\\newcommand{\\half}{\\frac{1}{2}}\n",
    "\\newcommand{\\argmax}[1]{\\underset{#1}{\\operatorname{argmax}}}\n",
    "\\newcommand{\\argmin}[1]{\\underset{#1}{\\operatorname{argmin}}}$"
   ]
  },
  {
   "cell_type": "markdown",
   "metadata": {},
   "source": [
    "# Project Proposal for CS545"
   ]
  },
  {
   "cell_type": "markdown",
   "metadata": {},
   "source": [
    "Shwetha Gowdanakatte<br>\n",
    "Shruti Prashant Parab<br>\n",
    "Andrew Tracy"
   ]
  },
  {
   "cell_type": "markdown",
   "metadata": {},
   "source": [
    "## Introduction"
   ]
  },
  {
   "cell_type": "markdown",
   "metadata": {},
   "source": [
    "The purpose of this project to use a convolution neural network to create an image recognition system that  will take an image of a standardize pistol shooting target and identify the scoring rings of the target, identify the hits on target, and provide the total score from the target.\n",
    "\n"
   ]
  },
  {
   "cell_type": "markdown",
   "metadata": {},
   "source": [
    "## Methods"
   ]
  },
  {
   "cell_type": "markdown",
   "metadata": {},
   "source": [
    "The project was originally proposed by Andrew, inspired by two parts.  The first is to create a project in the field of image recognition.  This will aid us in having a better understanding on how to implement neural networks in field such as robotics, security, and medical diagnostics.  The second is to be able to use the technology in this project in future project to help train law enforcement and military personnel in firearm proficiency to help reduce collateral damage and harm to by standards.\n",
    "\n",
    "We hope to utilize work done by others as a template for the development of our convolution neural network.  Early investigation on possible starting points is to implement the project found at <br>https://studentstrapz.blogspot.com/2018/09/using-image-processing-to-identify-and.html<br>\n",
    "The objective of the to the dart scoring problem is similar to ours.  In the project, the target is segmented into section and then points are given based on the location of the dart.  Our implementation will have a simpler target, but the location of the hit on the paper will be more difficult to detect as the shape and size can have large variations.\n",
    "\n",
    "Our implementation  will be developed in Python.  If the Dart Board Scoring project is used as a starting point, it will need to be converted from MATLAB to Python.\n",
    "\n",
    "### Tasks\n",
    "\n",
    "Here is a short list of tasks to be accomplished for this project.\n",
    "\n",
    "Research existing implementations to leverage for our design.  -All<br>\n",
    "Select target to use for data sampling.  -Andrew<br>\n",
    "Create data samples.  -Andrew<br>\n",
    "Create NN for finding scoring regions on target.- Shwetha <br> \n",
    "Train and characterize the NN.  -Andrew<br>\n",
    "Create NN for finding hits on target. -Shruti<br>\n",
    "Train and characterize the NN.  -Shruti<br>\n",
    "Create program to determine final score. -Andrew<br>\n",
    "Create final report.- Shwetha<br> \n"
   ]
  },
  {
   "cell_type": "markdown",
   "metadata": {},
   "source": [
    "## Possible Results\n",
    "\n",
    "As we will be using a standard target for our data, we expect that the network will have a high accuracy in recognizing the target and the scoring regions of the target once it has been trained.  \n",
    "\n",
    "Due to the high variation in the shape and size of bullet holes, the diction of the bullet holes with most likely be the most difficult part.  This is especially true in the case where two rounds have impact the target in close proximity to each other.\n",
    "\n",
    "Once the target scoring areas and the bullet holes can be identified, the final task of identify the total score should be easy.\n"
   ]
  },
  {
   "cell_type": "markdown",
   "metadata": {},
   "source": [
    "## Timeline\n",
    "\n",
    "Here is a list of dates and milestones for the project\n",
    "\n",
    "Oct. 25th - Determine technique to be used for our NN.<br>\n",
    "Nov. 1st - Collect data samples for training and verification.<br>\n",
    "Nov, 10th - Complete Scoring Region NN.<br>\n",
    "N0v 15th - Complete Hits NN.<br>\n",
    "Nov 25th - Final Integration.<br>\n",
    "Dec. 7th - Complete first draft of report.<br>\n",
    "Dec . 12th - Submit final report.<br>\n"
   ]
  }
 ],
 "metadata": {
  "kernelspec": {
   "display_name": "Python 3",
   "language": "python",
   "name": "python3"
  },
  "language_info": {
   "codemirror_mode": {
    "name": "ipython",
    "version": 3
   },
   "file_extension": ".py",
   "mimetype": "text/x-python",
   "name": "python",
   "nbconvert_exporter": "python",
   "pygments_lexer": "ipython3",
   "version": "3.7.3"
  }
 },
 "nbformat": 4,
 "nbformat_minor": 1
}
